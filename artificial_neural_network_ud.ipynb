{
  "nbformat": 4,
  "nbformat_minor": 0,
  "metadata": {
    "colab": {
      "name": "artificial_neural_network_ud.ipynb",
      "provenance": [],
      "collapsed_sections": []
    },
    "kernelspec": {
      "name": "python3",
      "display_name": "Python 3"
    }
  },
  "cells": [
    {
      "cell_type": "markdown",
      "metadata": {
        "id": "lP6JLo1tGNBg"
      },
      "source": [
        "# Artificial Neural Network"
      ]
    },
    {
      "cell_type": "markdown",
      "metadata": {
        "id": "gWZyYmS_UE_L"
      },
      "source": [
        "### Importing the libraries"
      ]
    },
    {
      "cell_type": "code",
      "source": [
        "import numpy as np\n",
        "import pandas as pd\n",
        "import tensorflow as tf"
      ],
      "metadata": {
        "id": "WqJupP45st32"
      },
      "execution_count": null,
      "outputs": []
    },
    {
      "cell_type": "code",
      "source": [
        "tf.__version__"
      ],
      "metadata": {
        "colab": {
          "base_uri": "https://localhost:8080/",
          "height": 35
        },
        "id": "c2c3m6a4tAgE",
        "outputId": "9d3eb9bb-76c5-4cf5-92ad-79894b8b6333"
      },
      "execution_count": null,
      "outputs": [
        {
          "output_type": "execute_result",
          "data": {
            "text/plain": [
              "'2.8.2'"
            ],
            "application/vnd.google.colaboratory.intrinsic+json": {
              "type": "string"
            }
          },
          "metadata": {},
          "execution_count": 2
        }
      ]
    },
    {
      "cell_type": "markdown",
      "metadata": {
        "id": "1E0Q3aoKUCRX"
      },
      "source": [
        "## Part 1 - Data Preprocessing"
      ]
    },
    {
      "cell_type": "markdown",
      "metadata": {
        "id": "cKWAkFVGUU0Z"
      },
      "source": [
        "### Importing the dataset"
      ]
    },
    {
      "cell_type": "code",
      "source": [
        "dataset = pd.read_csv('Churn_Modelling.csv')\n",
        "X = dataset.iloc[:,3:-1].values\n",
        "y = dataset.iloc[:,-1].values"
      ],
      "metadata": {
        "id": "fg-wZ06wtdCZ"
      },
      "execution_count": null,
      "outputs": []
    },
    {
      "cell_type": "code",
      "source": [
        "print(X)"
      ],
      "metadata": {
        "colab": {
          "base_uri": "https://localhost:8080/"
        },
        "id": "Ep6ufxKduaFt",
        "outputId": "c56bc7b2-6aa9-44d9-e791-0af01657d5b4"
      },
      "execution_count": null,
      "outputs": [
        {
          "output_type": "stream",
          "name": "stdout",
          "text": [
            "[[619 'France' 'Female' ... 1 1 101348.88]\n",
            " [608 'Spain' 'Female' ... 0 1 112542.58]\n",
            " [502 'France' 'Female' ... 1 0 113931.57]\n",
            " ...\n",
            " [709 'France' 'Female' ... 0 1 42085.58]\n",
            " [772 'Germany' 'Male' ... 1 0 92888.52]\n",
            " [792 'France' 'Female' ... 1 0 38190.78]]\n"
          ]
        }
      ]
    },
    {
      "cell_type": "code",
      "source": [
        "print(y)"
      ],
      "metadata": {
        "colab": {
          "base_uri": "https://localhost:8080/"
        },
        "id": "YsvOL8wZub8w",
        "outputId": "fdb28459-d6ad-4169-f470-84be9f3e1a96"
      },
      "execution_count": null,
      "outputs": [
        {
          "output_type": "stream",
          "name": "stdout",
          "text": [
            "[1 0 1 ... 1 1 0]\n"
          ]
        }
      ]
    },
    {
      "cell_type": "markdown",
      "metadata": {
        "id": "N6bQ0UgSU-NJ"
      },
      "source": [
        "### Encoding categorical data"
      ]
    },
    {
      "cell_type": "markdown",
      "metadata": {
        "id": "le5MJreAbW52"
      },
      "source": [
        "Label Encoding the \"Gender\" column"
      ]
    },
    {
      "cell_type": "code",
      "source": [
        "from sklearn.preprocessing import LabelEncoder\n",
        "le = LabelEncoder()\n",
        "X[:,2] = le.fit_transform(X[:,2])"
      ],
      "metadata": {
        "id": "2DLMZRq7uZQi"
      },
      "execution_count": null,
      "outputs": []
    },
    {
      "cell_type": "code",
      "source": [
        "print(X)"
      ],
      "metadata": {
        "colab": {
          "base_uri": "https://localhost:8080/"
        },
        "id": "jopQHwwCvzPc",
        "outputId": "c4186e33-6afc-4da6-e54f-1ed0adcdade9"
      },
      "execution_count": null,
      "outputs": [
        {
          "output_type": "stream",
          "name": "stdout",
          "text": [
            "[[619 'France' 0 ... 1 1 101348.88]\n",
            " [608 'Spain' 0 ... 0 1 112542.58]\n",
            " [502 'France' 0 ... 1 0 113931.57]\n",
            " ...\n",
            " [709 'France' 0 ... 0 1 42085.58]\n",
            " [772 'Germany' 1 ... 1 0 92888.52]\n",
            " [792 'France' 0 ... 1 0 38190.78]]\n"
          ]
        }
      ]
    },
    {
      "cell_type": "markdown",
      "metadata": {
        "id": "CUxGZezpbMcb"
      },
      "source": [
        "One Hot Encoding the \"Geography\" column"
      ]
    },
    {
      "cell_type": "code",
      "source": [
        "from sklearn.compose import ColumnTransformer\n",
        "from sklearn.preprocessing import OneHotEncoder\n",
        "ct = ColumnTransformer(transformers = [('encoder', OneHotEncoder(),[1])],remainder='passthrough')\n",
        "X = np.array(ct.fit_transform(X))"
      ],
      "metadata": {
        "id": "6lpKXGyPwGrb"
      },
      "execution_count": null,
      "outputs": []
    },
    {
      "cell_type": "code",
      "source": [
        "print(X)"
      ],
      "metadata": {
        "colab": {
          "base_uri": "https://localhost:8080/"
        },
        "id": "oFpPhltiwqVP",
        "outputId": "83d72ff2-d2cb-4ccd-8913-0fabb2df8663"
      },
      "execution_count": null,
      "outputs": [
        {
          "output_type": "stream",
          "name": "stdout",
          "text": [
            "[[1.0 0.0 0.0 ... 1 1 101348.88]\n",
            " [0.0 0.0 1.0 ... 0 1 112542.58]\n",
            " [1.0 0.0 0.0 ... 1 0 113931.57]\n",
            " ...\n",
            " [1.0 0.0 0.0 ... 0 1 42085.58]\n",
            " [0.0 1.0 0.0 ... 1 0 92888.52]\n",
            " [1.0 0.0 0.0 ... 1 0 38190.78]]\n"
          ]
        }
      ]
    },
    {
      "cell_type": "markdown",
      "metadata": {
        "id": "vHol938cW8zd"
      },
      "source": [
        "### Splitting the dataset into the Training set and Test set"
      ]
    },
    {
      "cell_type": "code",
      "source": [
        "from sklearn.model_selection import train_test_split\n",
        "X_train, X_test, y_train, y_test = train_test_split(X, y, test_size = 0.2, random_state = 1)"
      ],
      "metadata": {
        "id": "9KhMnufuwspk"
      },
      "execution_count": null,
      "outputs": []
    },
    {
      "cell_type": "markdown",
      "metadata": {
        "id": "RE_FcHyfV3TQ"
      },
      "source": [
        "### Feature Scaling"
      ]
    },
    {
      "cell_type": "code",
      "source": [
        "from sklearn.preprocessing import StandardScaler\n",
        "sc = StandardScaler()\n",
        "X_train = sc.fit_transform(X_train)\n",
        "X_test = sc.transform(X_test)"
      ],
      "metadata": {
        "id": "FWZfN15XxECE"
      },
      "execution_count": null,
      "outputs": []
    },
    {
      "cell_type": "markdown",
      "metadata": {
        "id": "-zfEzkRVXIwF"
      },
      "source": [
        "## Part 2 - Building the ANN"
      ]
    },
    {
      "cell_type": "markdown",
      "metadata": {
        "id": "KvdeScabXtlB"
      },
      "source": [
        "### Initializing the ANN"
      ]
    },
    {
      "cell_type": "code",
      "source": [
        "ann = tf.keras.models.Sequential()"
      ],
      "metadata": {
        "id": "ITCCS4LD0yXa"
      },
      "execution_count": null,
      "outputs": []
    },
    {
      "cell_type": "markdown",
      "metadata": {
        "id": "rP6urV6SX7kS"
      },
      "source": [
        "### Adding the input layer and the first hidden layer"
      ]
    },
    {
      "cell_type": "code",
      "source": [
        "ann.add(tf.keras.layers.Dense(units = 6, activation = 'relu'))"
      ],
      "metadata": {
        "id": "SCKStKps1vHX"
      },
      "execution_count": null,
      "outputs": []
    },
    {
      "cell_type": "markdown",
      "metadata": {
        "id": "BELWAc_8YJze"
      },
      "source": [
        "### Adding the second hidden layer"
      ]
    },
    {
      "cell_type": "code",
      "source": [
        "ann.add(tf.keras.layers.Dense(units = 6, activation = 'relu'))"
      ],
      "metadata": {
        "id": "ZxCw_2aN7cQ-"
      },
      "execution_count": null,
      "outputs": []
    },
    {
      "cell_type": "markdown",
      "metadata": {
        "id": "OyNEe6RXYcU4"
      },
      "source": [
        "### Adding the output layer"
      ]
    },
    {
      "cell_type": "code",
      "source": [
        "ann.add(tf.keras.layers.Dense(units = 1, activation = 'sigmoid'))"
      ],
      "metadata": {
        "id": "G0eA2Oqn7fls"
      },
      "execution_count": null,
      "outputs": []
    },
    {
      "cell_type": "markdown",
      "metadata": {
        "id": "JT4u2S1_Y4WG"
      },
      "source": [
        "## Part 3 - Training the ANN"
      ]
    },
    {
      "cell_type": "markdown",
      "metadata": {
        "id": "8GWlJChhY_ZI"
      },
      "source": [
        "### Compiling the ANN"
      ]
    },
    {
      "cell_type": "code",
      "source": [
        "ann.compile(optimizer = 'adam', loss = 'binary_crossentropy',metrics = ['accuracy']) ## For non-binary classification activation = 'softmax', loss = 'categorical_crossentropy'"
      ],
      "metadata": {
        "id": "22bHIXiUCCLC"
      },
      "execution_count": null,
      "outputs": []
    },
    {
      "cell_type": "markdown",
      "metadata": {
        "id": "0QR_G5u7ZLSM"
      },
      "source": [
        "### Training the ANN on the Training set"
      ]
    },
    {
      "cell_type": "code",
      "source": [
        "ann.fit(X_train, y_train, batch_size = 32, epochs = 100)"
      ],
      "metadata": {
        "colab": {
          "base_uri": "https://localhost:8080/"
        },
        "id": "SrMuvY1LDkGO",
        "outputId": "4e7e31eb-fea2-40b5-84c0-ef41fcaac8ab"
      },
      "execution_count": null,
      "outputs": [
        {
          "output_type": "stream",
          "name": "stdout",
          "text": [
            "Epoch 1/100\n",
            "250/250 [==============================] - 1s 2ms/step - loss: 0.6187 - accuracy: 0.6614\n",
            "Epoch 2/100\n",
            "250/250 [==============================] - 1s 2ms/step - loss: 0.4730 - accuracy: 0.7969\n",
            "Epoch 3/100\n",
            "250/250 [==============================] - 1s 2ms/step - loss: 0.4449 - accuracy: 0.8015\n",
            "Epoch 4/100\n",
            "250/250 [==============================] - 1s 3ms/step - loss: 0.4311 - accuracy: 0.8111\n",
            "Epoch 5/100\n",
            "250/250 [==============================] - 1s 4ms/step - loss: 0.4228 - accuracy: 0.8161\n",
            "Epoch 6/100\n",
            "250/250 [==============================] - 1s 4ms/step - loss: 0.4162 - accuracy: 0.8188\n",
            "Epoch 7/100\n",
            "250/250 [==============================] - 1s 4ms/step - loss: 0.4094 - accuracy: 0.8219\n",
            "Epoch 8/100\n",
            "250/250 [==============================] - 1s 4ms/step - loss: 0.4010 - accuracy: 0.8267\n",
            "Epoch 9/100\n",
            "250/250 [==============================] - 1s 3ms/step - loss: 0.3907 - accuracy: 0.8332\n",
            "Epoch 10/100\n",
            "250/250 [==============================] - 1s 3ms/step - loss: 0.3790 - accuracy: 0.8407\n",
            "Epoch 11/100\n",
            "250/250 [==============================] - 1s 3ms/step - loss: 0.3691 - accuracy: 0.8449\n",
            "Epoch 12/100\n",
            "250/250 [==============================] - 1s 4ms/step - loss: 0.3626 - accuracy: 0.8501\n",
            "Epoch 13/100\n",
            "250/250 [==============================] - 1s 4ms/step - loss: 0.3593 - accuracy: 0.8515\n",
            "Epoch 14/100\n",
            "250/250 [==============================] - 1s 5ms/step - loss: 0.3565 - accuracy: 0.8519\n",
            "Epoch 15/100\n",
            "250/250 [==============================] - 1s 5ms/step - loss: 0.3538 - accuracy: 0.8518\n",
            "Epoch 16/100\n",
            "250/250 [==============================] - 1s 4ms/step - loss: 0.3530 - accuracy: 0.8525\n",
            "Epoch 17/100\n",
            "250/250 [==============================] - 1s 3ms/step - loss: 0.3513 - accuracy: 0.8533\n",
            "Epoch 18/100\n",
            "250/250 [==============================] - 1s 4ms/step - loss: 0.3498 - accuracy: 0.8539\n",
            "Epoch 19/100\n",
            "250/250 [==============================] - 1s 4ms/step - loss: 0.3485 - accuracy: 0.8550\n",
            "Epoch 20/100\n",
            "250/250 [==============================] - 1s 6ms/step - loss: 0.3481 - accuracy: 0.8540\n",
            "Epoch 21/100\n",
            "250/250 [==============================] - 1s 5ms/step - loss: 0.3472 - accuracy: 0.8556\n",
            "Epoch 22/100\n",
            "250/250 [==============================] - 1s 4ms/step - loss: 0.3464 - accuracy: 0.8577\n",
            "Epoch 23/100\n",
            "250/250 [==============================] - 1s 5ms/step - loss: 0.3457 - accuracy: 0.8568\n",
            "Epoch 24/100\n",
            "250/250 [==============================] - 1s 4ms/step - loss: 0.3449 - accuracy: 0.8565\n",
            "Epoch 25/100\n",
            "250/250 [==============================] - 1s 5ms/step - loss: 0.3441 - accuracy: 0.8576\n",
            "Epoch 26/100\n",
            "250/250 [==============================] - 1s 3ms/step - loss: 0.3437 - accuracy: 0.8594\n",
            "Epoch 27/100\n",
            "250/250 [==============================] - 1s 5ms/step - loss: 0.3440 - accuracy: 0.8591\n",
            "Epoch 28/100\n",
            "250/250 [==============================] - 1s 5ms/step - loss: 0.3434 - accuracy: 0.8586\n",
            "Epoch 29/100\n",
            "250/250 [==============================] - 2s 7ms/step - loss: 0.3430 - accuracy: 0.8580\n",
            "Epoch 30/100\n",
            "250/250 [==============================] - 2s 7ms/step - loss: 0.3430 - accuracy: 0.8590\n",
            "Epoch 31/100\n",
            "250/250 [==============================] - 1s 5ms/step - loss: 0.3425 - accuracy: 0.8593\n",
            "Epoch 32/100\n",
            "250/250 [==============================] - 1s 5ms/step - loss: 0.3418 - accuracy: 0.8591\n",
            "Epoch 33/100\n",
            "250/250 [==============================] - 1s 6ms/step - loss: 0.3422 - accuracy: 0.8581\n",
            "Epoch 34/100\n",
            "250/250 [==============================] - 1s 3ms/step - loss: 0.3418 - accuracy: 0.8577\n",
            "Epoch 35/100\n",
            "250/250 [==============================] - 1s 3ms/step - loss: 0.3414 - accuracy: 0.8597\n",
            "Epoch 36/100\n",
            "250/250 [==============================] - 1s 4ms/step - loss: 0.3416 - accuracy: 0.8585\n",
            "Epoch 37/100\n",
            "250/250 [==============================] - 1s 3ms/step - loss: 0.3414 - accuracy: 0.8601\n",
            "Epoch 38/100\n",
            "250/250 [==============================] - 1s 4ms/step - loss: 0.3408 - accuracy: 0.8608\n",
            "Epoch 39/100\n",
            "250/250 [==============================] - 1s 5ms/step - loss: 0.3409 - accuracy: 0.8610\n",
            "Epoch 40/100\n",
            "250/250 [==============================] - 1s 4ms/step - loss: 0.3405 - accuracy: 0.8595\n",
            "Epoch 41/100\n",
            "250/250 [==============================] - 1s 3ms/step - loss: 0.3399 - accuracy: 0.8587\n",
            "Epoch 42/100\n",
            "250/250 [==============================] - 1s 4ms/step - loss: 0.3403 - accuracy: 0.8599\n",
            "Epoch 43/100\n",
            "250/250 [==============================] - 1s 5ms/step - loss: 0.3400 - accuracy: 0.8593\n",
            "Epoch 44/100\n",
            "250/250 [==============================] - 1s 5ms/step - loss: 0.3396 - accuracy: 0.8610\n",
            "Epoch 45/100\n",
            "250/250 [==============================] - 1s 5ms/step - loss: 0.3392 - accuracy: 0.8612\n",
            "Epoch 46/100\n",
            "250/250 [==============================] - 1s 5ms/step - loss: 0.3392 - accuracy: 0.8619\n",
            "Epoch 47/100\n",
            "250/250 [==============================] - 1s 4ms/step - loss: 0.3391 - accuracy: 0.8608\n",
            "Epoch 48/100\n",
            "250/250 [==============================] - 1s 4ms/step - loss: 0.3389 - accuracy: 0.8599\n",
            "Epoch 49/100\n",
            "250/250 [==============================] - 1s 5ms/step - loss: 0.3384 - accuracy: 0.8619\n",
            "Epoch 50/100\n",
            "250/250 [==============================] - 1s 5ms/step - loss: 0.3382 - accuracy: 0.8596\n",
            "Epoch 51/100\n",
            "250/250 [==============================] - 1s 5ms/step - loss: 0.3377 - accuracy: 0.8612\n",
            "Epoch 52/100\n",
            "250/250 [==============================] - 1s 4ms/step - loss: 0.3377 - accuracy: 0.8626\n",
            "Epoch 53/100\n",
            "250/250 [==============================] - 1s 3ms/step - loss: 0.3377 - accuracy: 0.8612\n",
            "Epoch 54/100\n",
            "250/250 [==============================] - 1s 4ms/step - loss: 0.3372 - accuracy: 0.8624\n",
            "Epoch 55/100\n",
            "250/250 [==============================] - 1s 3ms/step - loss: 0.3371 - accuracy: 0.8630\n",
            "Epoch 56/100\n",
            "250/250 [==============================] - 1s 4ms/step - loss: 0.3367 - accuracy: 0.8637\n",
            "Epoch 57/100\n",
            "250/250 [==============================] - 1s 5ms/step - loss: 0.3372 - accuracy: 0.8620\n",
            "Epoch 58/100\n",
            "250/250 [==============================] - 1s 5ms/step - loss: 0.3361 - accuracy: 0.8624\n",
            "Epoch 59/100\n",
            "250/250 [==============================] - 1s 4ms/step - loss: 0.3367 - accuracy: 0.8627\n",
            "Epoch 60/100\n",
            "250/250 [==============================] - 1s 4ms/step - loss: 0.3356 - accuracy: 0.8612\n",
            "Epoch 61/100\n",
            "250/250 [==============================] - 1s 4ms/step - loss: 0.3357 - accuracy: 0.8629\n",
            "Epoch 62/100\n",
            "250/250 [==============================] - 1s 3ms/step - loss: 0.3358 - accuracy: 0.8633\n",
            "Epoch 63/100\n",
            "250/250 [==============================] - 1s 3ms/step - loss: 0.3348 - accuracy: 0.8620\n",
            "Epoch 64/100\n",
            "250/250 [==============================] - 1s 2ms/step - loss: 0.3356 - accuracy: 0.8621\n",
            "Epoch 65/100\n",
            "250/250 [==============================] - 0s 2ms/step - loss: 0.3353 - accuracy: 0.8602\n",
            "Epoch 66/100\n",
            "250/250 [==============================] - 0s 2ms/step - loss: 0.3348 - accuracy: 0.8630\n",
            "Epoch 67/100\n",
            "250/250 [==============================] - 0s 2ms/step - loss: 0.3343 - accuracy: 0.8614\n",
            "Epoch 68/100\n",
            "250/250 [==============================] - 0s 2ms/step - loss: 0.3343 - accuracy: 0.8630\n",
            "Epoch 69/100\n",
            "250/250 [==============================] - 0s 2ms/step - loss: 0.3343 - accuracy: 0.8620\n",
            "Epoch 70/100\n",
            "250/250 [==============================] - 0s 2ms/step - loss: 0.3342 - accuracy: 0.8619\n",
            "Epoch 71/100\n",
            "250/250 [==============================] - 0s 2ms/step - loss: 0.3342 - accuracy: 0.8614\n",
            "Epoch 72/100\n",
            "250/250 [==============================] - 1s 2ms/step - loss: 0.3341 - accuracy: 0.8616\n",
            "Epoch 73/100\n",
            "250/250 [==============================] - 0s 2ms/step - loss: 0.3339 - accuracy: 0.8629\n",
            "Epoch 74/100\n",
            "250/250 [==============================] - 0s 2ms/step - loss: 0.3341 - accuracy: 0.8609\n",
            "Epoch 75/100\n",
            "250/250 [==============================] - 0s 2ms/step - loss: 0.3335 - accuracy: 0.8633\n",
            "Epoch 76/100\n",
            "250/250 [==============================] - 1s 2ms/step - loss: 0.3335 - accuracy: 0.8629\n",
            "Epoch 77/100\n",
            "250/250 [==============================] - 1s 2ms/step - loss: 0.3336 - accuracy: 0.8625\n",
            "Epoch 78/100\n",
            "250/250 [==============================] - 0s 2ms/step - loss: 0.3341 - accuracy: 0.8618\n",
            "Epoch 79/100\n",
            "250/250 [==============================] - 0s 2ms/step - loss: 0.3330 - accuracy: 0.8627\n",
            "Epoch 80/100\n",
            "250/250 [==============================] - 1s 2ms/step - loss: 0.3333 - accuracy: 0.8639\n",
            "Epoch 81/100\n",
            "250/250 [==============================] - 0s 2ms/step - loss: 0.3327 - accuracy: 0.8605\n",
            "Epoch 82/100\n",
            "250/250 [==============================] - 0s 2ms/step - loss: 0.3327 - accuracy: 0.8625\n",
            "Epoch 83/100\n",
            "250/250 [==============================] - 0s 2ms/step - loss: 0.3329 - accuracy: 0.8624\n",
            "Epoch 84/100\n",
            "250/250 [==============================] - 0s 2ms/step - loss: 0.3328 - accuracy: 0.8639\n",
            "Epoch 85/100\n",
            "250/250 [==============================] - 0s 2ms/step - loss: 0.3328 - accuracy: 0.8616\n",
            "Epoch 86/100\n",
            "250/250 [==============================] - 0s 2ms/step - loss: 0.3323 - accuracy: 0.8620\n",
            "Epoch 87/100\n",
            "250/250 [==============================] - 0s 2ms/step - loss: 0.3322 - accuracy: 0.8625\n",
            "Epoch 88/100\n",
            "250/250 [==============================] - 0s 2ms/step - loss: 0.3327 - accuracy: 0.8636\n",
            "Epoch 89/100\n",
            "250/250 [==============================] - 0s 2ms/step - loss: 0.3325 - accuracy: 0.8627\n",
            "Epoch 90/100\n",
            "250/250 [==============================] - 0s 2ms/step - loss: 0.3319 - accuracy: 0.8616\n",
            "Epoch 91/100\n",
            "250/250 [==============================] - 0s 2ms/step - loss: 0.3322 - accuracy: 0.8636\n",
            "Epoch 92/100\n",
            "250/250 [==============================] - 0s 2ms/step - loss: 0.3319 - accuracy: 0.8622\n",
            "Epoch 93/100\n",
            "250/250 [==============================] - 1s 2ms/step - loss: 0.3322 - accuracy: 0.8633\n",
            "Epoch 94/100\n",
            "250/250 [==============================] - 0s 2ms/step - loss: 0.3321 - accuracy: 0.8626\n",
            "Epoch 95/100\n",
            "250/250 [==============================] - 0s 2ms/step - loss: 0.3320 - accuracy: 0.8616\n",
            "Epoch 96/100\n",
            "250/250 [==============================] - 0s 2ms/step - loss: 0.3319 - accuracy: 0.8631\n",
            "Epoch 97/100\n",
            "250/250 [==============================] - 0s 2ms/step - loss: 0.3321 - accuracy: 0.8626\n",
            "Epoch 98/100\n",
            "250/250 [==============================] - 0s 2ms/step - loss: 0.3315 - accuracy: 0.8621\n",
            "Epoch 99/100\n",
            "250/250 [==============================] - 0s 2ms/step - loss: 0.3320 - accuracy: 0.8620\n",
            "Epoch 100/100\n",
            "250/250 [==============================] - 0s 2ms/step - loss: 0.3311 - accuracy: 0.8627\n"
          ]
        },
        {
          "output_type": "execute_result",
          "data": {
            "text/plain": [
              "<keras.callbacks.History at 0x7fb8202e7350>"
            ]
          },
          "metadata": {},
          "execution_count": 17
        }
      ]
    },
    {
      "cell_type": "markdown",
      "metadata": {
        "id": "tJj5k2MxZga3"
      },
      "source": [
        "## Part 4 - Making the predictions and evaluating the model"
      ]
    },
    {
      "cell_type": "markdown",
      "metadata": {
        "id": "84QFoqGYeXHL"
      },
      "source": [
        "### Predicting the result of a single observation"
      ]
    },
    {
      "cell_type": "markdown",
      "metadata": {
        "id": "CGRo3eacgDdC"
      },
      "source": [
        "**Homework**\n",
        "\n",
        "Use our ANN model to predict if the customer with the following informations will leave the bank: \n",
        "\n",
        "Geography: France\n",
        "\n",
        "Credit Score: 600\n",
        "\n",
        "Gender: Male\n",
        "\n",
        "Age: 40 years old\n",
        "\n",
        "Tenure: 3 years\n",
        "\n",
        "Balance: \\$ 60000\n",
        "\n",
        "Number of Products: 2\n",
        "\n",
        "Does this customer have a credit card? Yes\n",
        "\n",
        "Is this customer an Active Member: Yes\n",
        "\n",
        "Estimated Salary: \\$ 50000\n",
        "\n",
        "So, should we say goodbye to that customer?"
      ]
    },
    {
      "cell_type": "markdown",
      "metadata": {
        "id": "ZhU1LTgPg-kH"
      },
      "source": [
        "**Solution**"
      ]
    },
    {
      "cell_type": "code",
      "source": [
        "print(ann.predict(sc.transform([[600,1,0,0,1,40,3,60000,2,1,1,50000]]))>0.5)"
      ],
      "metadata": {
        "colab": {
          "base_uri": "https://localhost:8080/"
        },
        "id": "Yx3bPAcVE7Aj",
        "outputId": "5c5984f3-5249-4f44-91d3-35ce7ac53948"
      },
      "execution_count": null,
      "outputs": [
        {
          "output_type": "stream",
          "name": "stdout",
          "text": [
            "[[ True]]\n"
          ]
        }
      ]
    },
    {
      "cell_type": "markdown",
      "metadata": {
        "id": "wGjx94g2n7OV"
      },
      "source": [
        "Therefore, our ANN model predicts that this customer stays in the bank!\n",
        "\n",
        "**Important note 1:** Notice that the values of the features were all input in a double pair of square brackets. That's because the \"predict\" method always expects a 2D array as the format of its inputs. And putting our values into a double pair of square brackets makes the input exactly a 2D array.\n",
        "\n",
        "**Important note 2:** Notice also that the \"France\" country was not input as a string in the last column but as \"1, 0, 0\" in the first three columns. That's because of course the predict method expects the one-hot-encoded values of the state, and as we see in the first row of the matrix of features X, \"France\" was encoded as \"1, 0, 0\". And be careful to include these values in the first three columns, because the dummy variables are always created in the first columns."
      ]
    },
    {
      "cell_type": "markdown",
      "metadata": {
        "id": "u7yx47jPZt11"
      },
      "source": [
        "### Predicting the Test set results"
      ]
    },
    {
      "cell_type": "code",
      "source": [
        "y_pred = ann.predict(X_test)\n",
        "y_pred = y_pred>0.5\n",
        "print(np.concatenate((y_pred.reshape(len(y_pred),1),y_test.reshape(len(y_test),1)),1))"
      ],
      "metadata": {
        "colab": {
          "base_uri": "https://localhost:8080/"
        },
        "id": "NBShbwBaITk6",
        "outputId": "ed19640b-d9f2-483b-8a26-35273bb1487d"
      },
      "execution_count": null,
      "outputs": [
        {
          "output_type": "stream",
          "name": "stdout",
          "text": [
            "[[0 0]\n",
            " [0 0]\n",
            " [0 0]\n",
            " ...\n",
            " [0 0]\n",
            " [0 0]\n",
            " [1 0]]\n"
          ]
        }
      ]
    },
    {
      "cell_type": "markdown",
      "metadata": {
        "id": "o0oyfLWoaEGw"
      },
      "source": [
        "### Making the Confusion Matrix"
      ]
    },
    {
      "cell_type": "code",
      "source": [
        "from sklearn.metrics import confusion_matrix, accuracy_score\n",
        "cm = confusion_matrix(y_test, y_pred)\n",
        "print(cm)\n",
        "accuracy_score(y_test, y_pred)"
      ],
      "metadata": {
        "colab": {
          "base_uri": "https://localhost:8080/"
        },
        "id": "ZfLBVOJPLaf1",
        "outputId": "d7298c59-9716-47fc-a96e-a5656dcde616"
      },
      "execution_count": null,
      "outputs": [
        {
          "output_type": "stream",
          "name": "stdout",
          "text": [
            "[[1531   54]\n",
            " [ 217  198]]\n"
          ]
        },
        {
          "output_type": "execute_result",
          "data": {
            "text/plain": [
              "0.8645"
            ]
          },
          "metadata": {},
          "execution_count": 26
        }
      ]
    },
    {
      "cell_type": "code",
      "source": [
        ""
      ],
      "metadata": {
        "id": "tKIIJtHlM58L"
      },
      "execution_count": null,
      "outputs": []
    }
  ]
}